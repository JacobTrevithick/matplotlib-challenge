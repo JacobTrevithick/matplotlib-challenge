{
 "cells": [
  {
   "cell_type": "markdown",
   "metadata": {},
   "source": [
    "## Observations and Insights "
   ]
  },
  {
   "cell_type": "markdown",
   "metadata": {},
   "source": []
  },
  {
   "cell_type": "code",
   "execution_count": 3,
   "metadata": {},
   "outputs": [],
   "source": [
    "# Dependencies and Setup\n",
    "import matplotlib.pyplot as plt\n",
    "import pandas as pd\n",
    "import scipy.stats as st\n",
    "import os\n"
   ]
  },
  {
   "cell_type": "code",
   "execution_count": 29,
   "metadata": {},
   "outputs": [
    {
     "output_type": "execute_result",
     "data": {
      "text/plain": [
       "  Mouse ID Drug Regimen   Sex  Age_months  Weight (g)  Timepoint  \\\n",
       "0     k403     Ramicane  Male          21          16          0   \n",
       "1     k403     Ramicane  Male          21          16          5   \n",
       "2     k403     Ramicane  Male          21          16         10   \n",
       "3     k403     Ramicane  Male          21          16         15   \n",
       "4     k403     Ramicane  Male          21          16         20   \n",
       "\n",
       "   Tumor Volume (mm3)  Metastatic Sites  \n",
       "0           45.000000                 0  \n",
       "1           38.825898                 0  \n",
       "2           35.014271                 1  \n",
       "3           34.223992                 1  \n",
       "4           32.997729                 1  "
      ],
      "text/html": "<div>\n<style scoped>\n    .dataframe tbody tr th:only-of-type {\n        vertical-align: middle;\n    }\n\n    .dataframe tbody tr th {\n        vertical-align: top;\n    }\n\n    .dataframe thead th {\n        text-align: right;\n    }\n</style>\n<table border=\"1\" class=\"dataframe\">\n  <thead>\n    <tr style=\"text-align: right;\">\n      <th></th>\n      <th>Mouse ID</th>\n      <th>Drug Regimen</th>\n      <th>Sex</th>\n      <th>Age_months</th>\n      <th>Weight (g)</th>\n      <th>Timepoint</th>\n      <th>Tumor Volume (mm3)</th>\n      <th>Metastatic Sites</th>\n    </tr>\n  </thead>\n  <tbody>\n    <tr>\n      <th>0</th>\n      <td>k403</td>\n      <td>Ramicane</td>\n      <td>Male</td>\n      <td>21</td>\n      <td>16</td>\n      <td>0</td>\n      <td>45.000000</td>\n      <td>0</td>\n    </tr>\n    <tr>\n      <th>1</th>\n      <td>k403</td>\n      <td>Ramicane</td>\n      <td>Male</td>\n      <td>21</td>\n      <td>16</td>\n      <td>5</td>\n      <td>38.825898</td>\n      <td>0</td>\n    </tr>\n    <tr>\n      <th>2</th>\n      <td>k403</td>\n      <td>Ramicane</td>\n      <td>Male</td>\n      <td>21</td>\n      <td>16</td>\n      <td>10</td>\n      <td>35.014271</td>\n      <td>1</td>\n    </tr>\n    <tr>\n      <th>3</th>\n      <td>k403</td>\n      <td>Ramicane</td>\n      <td>Male</td>\n      <td>21</td>\n      <td>16</td>\n      <td>15</td>\n      <td>34.223992</td>\n      <td>1</td>\n    </tr>\n    <tr>\n      <th>4</th>\n      <td>k403</td>\n      <td>Ramicane</td>\n      <td>Male</td>\n      <td>21</td>\n      <td>16</td>\n      <td>20</td>\n      <td>32.997729</td>\n      <td>1</td>\n    </tr>\n  </tbody>\n</table>\n</div>"
     },
     "metadata": {},
     "execution_count": 29
    }
   ],
   "source": [
    "# Study data files\n",
    "mouse_metadata_path = os.path.join(\"data\", \"Mouse_metadata.csv\")\n",
    "study_results_path = os.path.join(\"data\", \"Study_results.csv\")\n",
    "\n",
    "# Read the mouse data and the study results\n",
    "mouse_metadata = pd.read_csv(mouse_metadata_path)\n",
    "study_results = pd.read_csv(study_results_path)\n",
    "\n",
    "# Combine the data into a single dataset\n",
    "mouse_study_df = pd.merge(mouse_metadata, study_results, on='Mouse ID', how='inner')\n",
    "\n",
    "mouse_study_df.head(5)\n",
    "# Display the data table for preview\n"
   ]
  },
  {
   "cell_type": "code",
   "execution_count": 39,
   "metadata": {},
   "outputs": [
    {
     "output_type": "execute_result",
     "data": {
      "text/plain": [
       "249"
      ]
     },
     "metadata": {},
     "execution_count": 39
    }
   ],
   "source": [
    "# Checking the number of mice.\n",
    "num_mice = mouse_study_df['Mouse ID'].nunique()\n",
    "num_mice"
   ]
  },
  {
   "cell_type": "code",
   "execution_count": 44,
   "metadata": {},
   "outputs": [
    {
     "output_type": "execute_result",
     "data": {
      "text/plain": [
       "909    g989\n",
       "911    g989\n",
       "913    g989\n",
       "915    g989\n",
       "917    g989\n",
       "Name: Mouse ID, dtype: object"
      ]
     },
     "metadata": {},
     "execution_count": 44
    }
   ],
   "source": [
    "# Getting the duplicate mice by ID number that shows up for Mouse ID and Timepoint. \n",
    "mouse_study_df['Mouse ID'][mouse_study_df.duplicated(subset=['Mouse ID', 'Timepoint'])]\n"
   ]
  },
  {
   "cell_type": "code",
   "execution_count": 48,
   "metadata": {},
   "outputs": [
    {
     "output_type": "execute_result",
     "data": {
      "text/plain": [
       "    Mouse ID Drug Regimen     Sex  Age_months  Weight (g)  Timepoint  \\\n",
       "908     g989     Propriva  Female          21          26          0   \n",
       "909     g989     Propriva  Female          21          26          0   \n",
       "910     g989     Propriva  Female          21          26          5   \n",
       "911     g989     Propriva  Female          21          26          5   \n",
       "912     g989     Propriva  Female          21          26         10   \n",
       "913     g989     Propriva  Female          21          26         10   \n",
       "914     g989     Propriva  Female          21          26         15   \n",
       "915     g989     Propriva  Female          21          26         15   \n",
       "916     g989     Propriva  Female          21          26         20   \n",
       "917     g989     Propriva  Female          21          26         20   \n",
       "918     g989     Propriva  Female          21          26         25   \n",
       "919     g989     Propriva  Female          21          26         30   \n",
       "920     g989     Propriva  Female          21          26         35   \n",
       "\n",
       "     Tumor Volume (mm3)  Metastatic Sites  \n",
       "908           45.000000                 0  \n",
       "909           45.000000                 0  \n",
       "910           48.786801                 0  \n",
       "911           47.570392                 0  \n",
       "912           51.745156                 0  \n",
       "913           49.880528                 0  \n",
       "914           51.325852                 1  \n",
       "915           53.442020                 0  \n",
       "916           55.326122                 1  \n",
       "917           54.657650                 1  \n",
       "918           56.045564                 1  \n",
       "919           59.082294                 1  \n",
       "920           62.570880                 2  "
      ],
      "text/html": "<div>\n<style scoped>\n    .dataframe tbody tr th:only-of-type {\n        vertical-align: middle;\n    }\n\n    .dataframe tbody tr th {\n        vertical-align: top;\n    }\n\n    .dataframe thead th {\n        text-align: right;\n    }\n</style>\n<table border=\"1\" class=\"dataframe\">\n  <thead>\n    <tr style=\"text-align: right;\">\n      <th></th>\n      <th>Mouse ID</th>\n      <th>Drug Regimen</th>\n      <th>Sex</th>\n      <th>Age_months</th>\n      <th>Weight (g)</th>\n      <th>Timepoint</th>\n      <th>Tumor Volume (mm3)</th>\n      <th>Metastatic Sites</th>\n    </tr>\n  </thead>\n  <tbody>\n    <tr>\n      <th>908</th>\n      <td>g989</td>\n      <td>Propriva</td>\n      <td>Female</td>\n      <td>21</td>\n      <td>26</td>\n      <td>0</td>\n      <td>45.000000</td>\n      <td>0</td>\n    </tr>\n    <tr>\n      <th>909</th>\n      <td>g989</td>\n      <td>Propriva</td>\n      <td>Female</td>\n      <td>21</td>\n      <td>26</td>\n      <td>0</td>\n      <td>45.000000</td>\n      <td>0</td>\n    </tr>\n    <tr>\n      <th>910</th>\n      <td>g989</td>\n      <td>Propriva</td>\n      <td>Female</td>\n      <td>21</td>\n      <td>26</td>\n      <td>5</td>\n      <td>48.786801</td>\n      <td>0</td>\n    </tr>\n    <tr>\n      <th>911</th>\n      <td>g989</td>\n      <td>Propriva</td>\n      <td>Female</td>\n      <td>21</td>\n      <td>26</td>\n      <td>5</td>\n      <td>47.570392</td>\n      <td>0</td>\n    </tr>\n    <tr>\n      <th>912</th>\n      <td>g989</td>\n      <td>Propriva</td>\n      <td>Female</td>\n      <td>21</td>\n      <td>26</td>\n      <td>10</td>\n      <td>51.745156</td>\n      <td>0</td>\n    </tr>\n    <tr>\n      <th>913</th>\n      <td>g989</td>\n      <td>Propriva</td>\n      <td>Female</td>\n      <td>21</td>\n      <td>26</td>\n      <td>10</td>\n      <td>49.880528</td>\n      <td>0</td>\n    </tr>\n    <tr>\n      <th>914</th>\n      <td>g989</td>\n      <td>Propriva</td>\n      <td>Female</td>\n      <td>21</td>\n      <td>26</td>\n      <td>15</td>\n      <td>51.325852</td>\n      <td>1</td>\n    </tr>\n    <tr>\n      <th>915</th>\n      <td>g989</td>\n      <td>Propriva</td>\n      <td>Female</td>\n      <td>21</td>\n      <td>26</td>\n      <td>15</td>\n      <td>53.442020</td>\n      <td>0</td>\n    </tr>\n    <tr>\n      <th>916</th>\n      <td>g989</td>\n      <td>Propriva</td>\n      <td>Female</td>\n      <td>21</td>\n      <td>26</td>\n      <td>20</td>\n      <td>55.326122</td>\n      <td>1</td>\n    </tr>\n    <tr>\n      <th>917</th>\n      <td>g989</td>\n      <td>Propriva</td>\n      <td>Female</td>\n      <td>21</td>\n      <td>26</td>\n      <td>20</td>\n      <td>54.657650</td>\n      <td>1</td>\n    </tr>\n    <tr>\n      <th>918</th>\n      <td>g989</td>\n      <td>Propriva</td>\n      <td>Female</td>\n      <td>21</td>\n      <td>26</td>\n      <td>25</td>\n      <td>56.045564</td>\n      <td>1</td>\n    </tr>\n    <tr>\n      <th>919</th>\n      <td>g989</td>\n      <td>Propriva</td>\n      <td>Female</td>\n      <td>21</td>\n      <td>26</td>\n      <td>30</td>\n      <td>59.082294</td>\n      <td>1</td>\n    </tr>\n    <tr>\n      <th>920</th>\n      <td>g989</td>\n      <td>Propriva</td>\n      <td>Female</td>\n      <td>21</td>\n      <td>26</td>\n      <td>35</td>\n      <td>62.570880</td>\n      <td>2</td>\n    </tr>\n  </tbody>\n</table>\n</div>"
     },
     "metadata": {},
     "execution_count": 48
    }
   ],
   "source": [
    "# Optional: Get all the data for the duplicate mouse ID. \n",
    "mouse_study_df[mouse_study_df['Mouse ID']=='g989']\n"
   ]
  },
  {
   "cell_type": "code",
   "execution_count": 70,
   "metadata": {},
   "outputs": [],
   "source": [
    "# Create a clean DataFrame by dropping the duplicate mouse by its ID.\n",
    "mouse_study_df.drop(labels = mouse_study_df.loc[mouse_study_df['Mouse ID']=='g989'].index, inplace =True)\n"
   ]
  },
  {
   "cell_type": "code",
   "execution_count": 71,
   "metadata": {},
   "outputs": [
    {
     "output_type": "execute_result",
     "data": {
      "text/plain": [
       "248"
      ]
     },
     "metadata": {},
     "execution_count": 71
    }
   ],
   "source": [
    "# Checking the number of mice in the clean DataFrame.\n",
    "mouse_study_df[\"Mouse ID\"].nunique()\n"
   ]
  },
  {
   "cell_type": "markdown",
   "metadata": {},
   "source": [
    "## Summary Statistics"
   ]
  },
  {
   "cell_type": "code",
   "execution_count": 96,
   "metadata": {},
   "outputs": [
    {
     "output_type": "execute_result",
     "data": {
      "text/plain": [
       "              Mean Tumor Volume (mm3)  Median Tumor Volume (mm3)   Variance  \\\n",
       "Drug Regimen                                                                  \n",
       "Ramicane                    40.216745                  40.673236  23.486704   \n",
       "Capomulin                   40.675741                  41.557809  24.947764   \n",
       "Propriva                    52.320930                  50.446266  43.852013   \n",
       "Ceftamin                    52.591172                  51.776157  39.290177   \n",
       "Infubinol                   52.884795                  51.820584  43.128684   \n",
       "Zoniferol                   53.236507                  51.818479  48.533355   \n",
       "Placebo                     54.033581                  52.288934  61.168083   \n",
       "Stelasyn                    54.233149                  52.431737  59.450562   \n",
       "Naftisol                    54.331565                  52.509285  66.173479   \n",
       "Ketapril                    55.235638                  53.698743  68.553577   \n",
       "\n",
       "              Standard Deviation       SEM  \n",
       "Drug Regimen                                \n",
       "Ramicane                4.846308  0.320955  \n",
       "Capomulin               4.994774  0.329346  \n",
       "Propriva                6.622085  0.544332  \n",
       "Ceftamin                6.268188  0.469821  \n",
       "Infubinol               6.567243  0.492236  \n",
       "Zoniferol               6.966589  0.516398  \n",
       "Placebo                 7.821003  0.581331  \n",
       "Stelasyn                7.710419  0.573111  \n",
       "Naftisol                8.134708  0.596466  \n",
       "Ketapril                8.279709  0.603860  "
      ],
      "text/html": "<div>\n<style scoped>\n    .dataframe tbody tr th:only-of-type {\n        vertical-align: middle;\n    }\n\n    .dataframe tbody tr th {\n        vertical-align: top;\n    }\n\n    .dataframe thead th {\n        text-align: right;\n    }\n</style>\n<table border=\"1\" class=\"dataframe\">\n  <thead>\n    <tr style=\"text-align: right;\">\n      <th></th>\n      <th>Mean Tumor Volume (mm3)</th>\n      <th>Median Tumor Volume (mm3)</th>\n      <th>Variance</th>\n      <th>Standard Deviation</th>\n      <th>SEM</th>\n    </tr>\n    <tr>\n      <th>Drug Regimen</th>\n      <th></th>\n      <th></th>\n      <th></th>\n      <th></th>\n      <th></th>\n    </tr>\n  </thead>\n  <tbody>\n    <tr>\n      <th>Ramicane</th>\n      <td>40.216745</td>\n      <td>40.673236</td>\n      <td>23.486704</td>\n      <td>4.846308</td>\n      <td>0.320955</td>\n    </tr>\n    <tr>\n      <th>Capomulin</th>\n      <td>40.675741</td>\n      <td>41.557809</td>\n      <td>24.947764</td>\n      <td>4.994774</td>\n      <td>0.329346</td>\n    </tr>\n    <tr>\n      <th>Propriva</th>\n      <td>52.320930</td>\n      <td>50.446266</td>\n      <td>43.852013</td>\n      <td>6.622085</td>\n      <td>0.544332</td>\n    </tr>\n    <tr>\n      <th>Ceftamin</th>\n      <td>52.591172</td>\n      <td>51.776157</td>\n      <td>39.290177</td>\n      <td>6.268188</td>\n      <td>0.469821</td>\n    </tr>\n    <tr>\n      <th>Infubinol</th>\n      <td>52.884795</td>\n      <td>51.820584</td>\n      <td>43.128684</td>\n      <td>6.567243</td>\n      <td>0.492236</td>\n    </tr>\n    <tr>\n      <th>Zoniferol</th>\n      <td>53.236507</td>\n      <td>51.818479</td>\n      <td>48.533355</td>\n      <td>6.966589</td>\n      <td>0.516398</td>\n    </tr>\n    <tr>\n      <th>Placebo</th>\n      <td>54.033581</td>\n      <td>52.288934</td>\n      <td>61.168083</td>\n      <td>7.821003</td>\n      <td>0.581331</td>\n    </tr>\n    <tr>\n      <th>Stelasyn</th>\n      <td>54.233149</td>\n      <td>52.431737</td>\n      <td>59.450562</td>\n      <td>7.710419</td>\n      <td>0.573111</td>\n    </tr>\n    <tr>\n      <th>Naftisol</th>\n      <td>54.331565</td>\n      <td>52.509285</td>\n      <td>66.173479</td>\n      <td>8.134708</td>\n      <td>0.596466</td>\n    </tr>\n    <tr>\n      <th>Ketapril</th>\n      <td>55.235638</td>\n      <td>53.698743</td>\n      <td>68.553577</td>\n      <td>8.279709</td>\n      <td>0.603860</td>\n    </tr>\n  </tbody>\n</table>\n</div>"
     },
     "metadata": {},
     "execution_count": 96
    }
   ],
   "source": [
    "# Generate a summary statistics table of mean, median, variance, standard deviation, and SEM of the tumor volume for each regimen\n",
    "\n",
    "# Use groupby and summary statistical methods to calculate the following properties of each drug regimen: \n",
    "# mean, median, variance, standard deviation, and SEM of the tumor volume. \n",
    "# Assemble the resulting series into a single summary dataframe.\n",
    "\n",
    "mouse_study_group = mouse_study_df.groupby(['Drug Regimen'])\n",
    "\n",
    "means = mouse_study_group['Tumor Volume (mm3)'].mean()\n",
    "medians = mouse_study_group['Tumor Volume (mm3)'].median()\n",
    "variances = mouse_study_group['Tumor Volume (mm3)'].var()\n",
    "std_devs = mouse_study_group['Tumor Volume (mm3)'].std()\n",
    "sems = mouse_study_group['Tumor Volume (mm3)'].sem()\n",
    "\n",
    "tumor_vol_sum_table = pd.DataFrame({\n",
    "    'Mean Tumor Volume (mm3)': means,\n",
    "    'Median Tumor Volume (mm3)': medians,\n",
    "    'Variance': variances,\n",
    "    'Standard Deviation': std_devs,\n",
    "    'SEM': sems\n",
    "})\n",
    "\n",
    "tumor_vol_sum_table.sort_values(by='Mean Tumor Volume (mm3)')\n"
   ]
  },
  {
   "cell_type": "code",
   "execution_count": 97,
   "metadata": {},
   "outputs": [
    {
     "output_type": "execute_result",
     "data": {
      "text/plain": [
       "              Mean_Tumor_Volume  Median_Tumor_Volume   Variance   Std_dev  \\\n",
       "Drug Regimen                                                                \n",
       "Ramicane              40.216745            40.673236  23.486704  4.846308   \n",
       "Capomulin             40.675741            41.557809  24.947764  4.994774   \n",
       "Propriva              52.320930            50.446266  43.852013  6.622085   \n",
       "Ceftamin              52.591172            51.776157  39.290177  6.268188   \n",
       "Infubinol             52.884795            51.820584  43.128684  6.567243   \n",
       "Zoniferol             53.236507            51.818479  48.533355  6.966589   \n",
       "Placebo               54.033581            52.288934  61.168083  7.821003   \n",
       "Stelasyn              54.233149            52.431737  59.450562  7.710419   \n",
       "Naftisol              54.331565            52.509285  66.173479  8.134708   \n",
       "Ketapril              55.235638            53.698743  68.553577  8.279709   \n",
       "\n",
       "                   SEM  \n",
       "Drug Regimen            \n",
       "Ramicane      0.320955  \n",
       "Capomulin     0.329346  \n",
       "Propriva      0.544332  \n",
       "Ceftamin      0.469821  \n",
       "Infubinol     0.492236  \n",
       "Zoniferol     0.516398  \n",
       "Placebo       0.581331  \n",
       "Stelasyn      0.573111  \n",
       "Naftisol      0.596466  \n",
       "Ketapril      0.603860  "
      ],
      "text/html": "<div>\n<style scoped>\n    .dataframe tbody tr th:only-of-type {\n        vertical-align: middle;\n    }\n\n    .dataframe tbody tr th {\n        vertical-align: top;\n    }\n\n    .dataframe thead th {\n        text-align: right;\n    }\n</style>\n<table border=\"1\" class=\"dataframe\">\n  <thead>\n    <tr style=\"text-align: right;\">\n      <th></th>\n      <th>Mean_Tumor_Volume</th>\n      <th>Median_Tumor_Volume</th>\n      <th>Variance</th>\n      <th>Std_dev</th>\n      <th>SEM</th>\n    </tr>\n    <tr>\n      <th>Drug Regimen</th>\n      <th></th>\n      <th></th>\n      <th></th>\n      <th></th>\n      <th></th>\n    </tr>\n  </thead>\n  <tbody>\n    <tr>\n      <th>Ramicane</th>\n      <td>40.216745</td>\n      <td>40.673236</td>\n      <td>23.486704</td>\n      <td>4.846308</td>\n      <td>0.320955</td>\n    </tr>\n    <tr>\n      <th>Capomulin</th>\n      <td>40.675741</td>\n      <td>41.557809</td>\n      <td>24.947764</td>\n      <td>4.994774</td>\n      <td>0.329346</td>\n    </tr>\n    <tr>\n      <th>Propriva</th>\n      <td>52.320930</td>\n      <td>50.446266</td>\n      <td>43.852013</td>\n      <td>6.622085</td>\n      <td>0.544332</td>\n    </tr>\n    <tr>\n      <th>Ceftamin</th>\n      <td>52.591172</td>\n      <td>51.776157</td>\n      <td>39.290177</td>\n      <td>6.268188</td>\n      <td>0.469821</td>\n    </tr>\n    <tr>\n      <th>Infubinol</th>\n      <td>52.884795</td>\n      <td>51.820584</td>\n      <td>43.128684</td>\n      <td>6.567243</td>\n      <td>0.492236</td>\n    </tr>\n    <tr>\n      <th>Zoniferol</th>\n      <td>53.236507</td>\n      <td>51.818479</td>\n      <td>48.533355</td>\n      <td>6.966589</td>\n      <td>0.516398</td>\n    </tr>\n    <tr>\n      <th>Placebo</th>\n      <td>54.033581</td>\n      <td>52.288934</td>\n      <td>61.168083</td>\n      <td>7.821003</td>\n      <td>0.581331</td>\n    </tr>\n    <tr>\n      <th>Stelasyn</th>\n      <td>54.233149</td>\n      <td>52.431737</td>\n      <td>59.450562</td>\n      <td>7.710419</td>\n      <td>0.573111</td>\n    </tr>\n    <tr>\n      <th>Naftisol</th>\n      <td>54.331565</td>\n      <td>52.509285</td>\n      <td>66.173479</td>\n      <td>8.134708</td>\n      <td>0.596466</td>\n    </tr>\n    <tr>\n      <th>Ketapril</th>\n      <td>55.235638</td>\n      <td>53.698743</td>\n      <td>68.553577</td>\n      <td>8.279709</td>\n      <td>0.603860</td>\n    </tr>\n  </tbody>\n</table>\n</div>"
     },
     "metadata": {},
     "execution_count": 97
    }
   ],
   "source": [
    "# Generate a summary statistics table of mean, median, variance, standard deviation, and SEM of the tumor volume for each regimen\n",
    "\n",
    "# Using the aggregation method, produce the same summary statistics in a single line\n",
    "agg_tumor_vol_sum_table = mouse_study_group.agg(Mean_Tumor_Volume=('Tumor Volume (mm3)', 'mean'), Median_Tumor_Volume=('Tumor Volume (mm3)', 'median'), Variance=('Tumor Volume (mm3)', 'var'), Std_dev=('Tumor Volume (mm3)', 'std'), SEM = ('Tumor Volume (mm3)', 'sem'))\n",
    "\n",
    "\n",
    "agg_tumor_vol_sum_table.sort_values(by='Mean_Tumor_Volume')\n"
   ]
  },
  {
   "cell_type": "markdown",
   "metadata": {},
   "source": [
    "## Bar and Pie Charts"
   ]
  },
  {
   "cell_type": "code",
   "execution_count": 123,
   "metadata": {},
   "outputs": [
    {
     "output_type": "execute_result",
     "data": {
      "text/plain": [
       "Text(0, 0.5, 'Total Timepoints')"
      ]
     },
     "metadata": {},
     "execution_count": 123
    },
    {
     "output_type": "display_data",
     "data": {
      "text/plain": "<Figure size 432x288 with 1 Axes>",
      "image/svg+xml": "<?xml version=\"1.0\" encoding=\"utf-8\" standalone=\"no\"?>\n<!DOCTYPE svg PUBLIC \"-//W3C//DTD SVG 1.1//EN\"\n  \"http://www.w3.org/Graphics/SVG/1.1/DTD/svg11.dtd\">\n<!-- Created with matplotlib (https://matplotlib.org/) -->\n<svg height=\"297.227161pt\" version=\"1.1\" viewBox=\"0 0 389.058633 297.227161\" width=\"389.058633pt\" xmlns=\"http://www.w3.org/2000/svg\" xmlns:xlink=\"http://www.w3.org/1999/xlink\">\n <defs>\n  <style type=\"text/css\">\n*{stroke-linecap:butt;stroke-linejoin:round;}\n  </style>\n </defs>\n <g id=\"figure_1\">\n  <g id=\"patch_1\">\n   <path d=\"M 0 297.227161 \nL 389.058633 297.227161 \nL 389.058633 0 \nL 0 0 \nz\n\" style=\"fill:none;\"/>\n  </g>\n  <g id=\"axes_1\">\n   <g id=\"patch_2\">\n    <path d=\"M 46.965625 224.64 \nL 381.765625 224.64 \nL 381.765625 7.2 \nL 46.965625 7.2 \nz\n\" style=\"fill:#ffffff;\"/>\n   </g>\n   <g id=\"patch_3\">\n    <path clip-path=\"url(#pb6c14c94b0)\" d=\"M 55.335625 224.64 \nL 72.075625 224.64 \nL 72.075625 19.355031 \nL 55.335625 19.355031 \nz\n\" style=\"fill:#1f77b4;\"/>\n   </g>\n   <g id=\"patch_4\">\n    <path clip-path=\"url(#pb6c14c94b0)\" d=\"M 88.815625 224.64 \nL 105.555625 224.64 \nL 105.555625 17.554286 \nL 88.815625 17.554286 \nz\n\" style=\"fill:#1f77b4;\"/>\n   </g>\n   <g id=\"patch_5\">\n    <path clip-path=\"url(#pb6c14c94b0)\" d=\"M 122.295625 224.64 \nL 139.035625 224.64 \nL 139.035625 64.373665 \nL 122.295625 64.373665 \nz\n\" style=\"fill:#1f77b4;\"/>\n   </g>\n   <g id=\"patch_6\">\n    <path clip-path=\"url(#pb6c14c94b0)\" d=\"M 155.775625 224.64 \nL 172.515625 224.64 \nL 172.515625 61.672547 \nL 155.775625 61.672547 \nz\n\" style=\"fill:#1f77b4;\"/>\n   </g>\n   <g id=\"patch_7\">\n    <path clip-path=\"url(#pb6c14c94b0)\" d=\"M 189.255625 224.64 \nL 205.995625 224.64 \nL 205.995625 64.373665 \nL 189.255625 64.373665 \nz\n\" style=\"fill:#1f77b4;\"/>\n   </g>\n   <g id=\"patch_8\">\n    <path clip-path=\"url(#pb6c14c94b0)\" d=\"M 222.735625 224.64 \nL 239.475625 224.64 \nL 239.475625 61.672547 \nL 222.735625 61.672547 \nz\n\" style=\"fill:#1f77b4;\"/>\n   </g>\n   <g id=\"patch_9\">\n    <path clip-path=\"url(#pb6c14c94b0)\" d=\"M 256.215625 224.64 \nL 272.955625 224.64 \nL 272.955625 60.772174 \nL 256.215625 60.772174 \nz\n\" style=\"fill:#1f77b4;\"/>\n   </g>\n   <g id=\"patch_10\">\n    <path clip-path=\"url(#pb6c14c94b0)\" d=\"M 289.695625 224.64 \nL 306.435625 224.64 \nL 306.435625 55.369938 \nL 289.695625 55.369938 \nz\n\" style=\"fill:#1f77b4;\"/>\n   </g>\n   <g id=\"patch_11\">\n    <path clip-path=\"url(#pb6c14c94b0)\" d=\"M 323.175625 224.64 \nL 339.915625 224.64 \nL 339.915625 91.384845 \nL 323.175625 91.384845 \nz\n\" style=\"fill:#1f77b4;\"/>\n   </g>\n   <g id=\"patch_12\">\n    <path clip-path=\"url(#pb6c14c94b0)\" d=\"M 356.655625 224.64 \nL 373.395625 224.64 \nL 373.395625 57.170683 \nL 356.655625 57.170683 \nz\n\" style=\"fill:#1f77b4;\"/>\n   </g>\n   <g id=\"matplotlib.axis_1\">\n    <g id=\"xtick_1\">\n     <g id=\"line2d_1\">\n      <defs>\n       <path d=\"M 0 0 \nL 0 3.5 \n\" id=\"m97e82c78f2\" style=\"stroke:#000000;stroke-width:0.8;\"/>\n      </defs>\n      <g>\n       <use style=\"stroke:#000000;stroke-width:0.8;\" x=\"63.705625\" xlink:href=\"#m97e82c78f2\" y=\"224.64\"/>\n      </g>\n     </g>\n     <g id=\"text_1\">\n      <!-- Ramicane -->\n      <defs>\n       <path d=\"M 44.390625 34.1875 \nQ 47.5625 33.109375 50.5625 29.59375 \nQ 53.5625 26.078125 56.59375 19.921875 \nL 66.609375 0 \nL 56 0 \nL 46.6875 18.703125 \nQ 43.0625 26.03125 39.671875 28.421875 \nQ 36.28125 30.8125 30.421875 30.8125 \nL 19.671875 30.8125 \nL 19.671875 0 \nL 9.8125 0 \nL 9.8125 72.90625 \nL 32.078125 72.90625 \nQ 44.578125 72.90625 50.734375 67.671875 \nQ 56.890625 62.453125 56.890625 51.90625 \nQ 56.890625 45.015625 53.6875 40.46875 \nQ 50.484375 35.9375 44.390625 34.1875 \nz\nM 19.671875 64.796875 \nL 19.671875 38.921875 \nL 32.078125 38.921875 \nQ 39.203125 38.921875 42.84375 42.21875 \nQ 46.484375 45.515625 46.484375 51.90625 \nQ 46.484375 58.296875 42.84375 61.546875 \nQ 39.203125 64.796875 32.078125 64.796875 \nz\n\" id=\"DejaVuSans-82\"/>\n       <path d=\"M 34.28125 27.484375 \nQ 23.390625 27.484375 19.1875 25 \nQ 14.984375 22.515625 14.984375 16.5 \nQ 14.984375 11.71875 18.140625 8.90625 \nQ 21.296875 6.109375 26.703125 6.109375 \nQ 34.1875 6.109375 38.703125 11.40625 \nQ 43.21875 16.703125 43.21875 25.484375 \nL 43.21875 27.484375 \nz\nM 52.203125 31.203125 \nL 52.203125 0 \nL 43.21875 0 \nL 43.21875 8.296875 \nQ 40.140625 3.328125 35.546875 0.953125 \nQ 30.953125 -1.421875 24.3125 -1.421875 \nQ 15.921875 -1.421875 10.953125 3.296875 \nQ 6 8.015625 6 15.921875 \nQ 6 25.140625 12.171875 29.828125 \nQ 18.359375 34.515625 30.609375 34.515625 \nL 43.21875 34.515625 \nL 43.21875 35.40625 \nQ 43.21875 41.609375 39.140625 45 \nQ 35.0625 48.390625 27.6875 48.390625 \nQ 23 48.390625 18.546875 47.265625 \nQ 14.109375 46.140625 10.015625 43.890625 \nL 10.015625 52.203125 \nQ 14.9375 54.109375 19.578125 55.046875 \nQ 24.21875 56 28.609375 56 \nQ 40.484375 56 46.34375 49.84375 \nQ 52.203125 43.703125 52.203125 31.203125 \nz\n\" id=\"DejaVuSans-97\"/>\n       <path d=\"M 52 44.1875 \nQ 55.375 50.25 60.0625 53.125 \nQ 64.75 56 71.09375 56 \nQ 79.640625 56 84.28125 50.015625 \nQ 88.921875 44.046875 88.921875 33.015625 \nL 88.921875 0 \nL 79.890625 0 \nL 79.890625 32.71875 \nQ 79.890625 40.578125 77.09375 44.375 \nQ 74.3125 48.1875 68.609375 48.1875 \nQ 61.625 48.1875 57.5625 43.546875 \nQ 53.515625 38.921875 53.515625 30.90625 \nL 53.515625 0 \nL 44.484375 0 \nL 44.484375 32.71875 \nQ 44.484375 40.625 41.703125 44.40625 \nQ 38.921875 48.1875 33.109375 48.1875 \nQ 26.21875 48.1875 22.15625 43.53125 \nQ 18.109375 38.875 18.109375 30.90625 \nL 18.109375 0 \nL 9.078125 0 \nL 9.078125 54.6875 \nL 18.109375 54.6875 \nL 18.109375 46.1875 \nQ 21.1875 51.21875 25.484375 53.609375 \nQ 29.78125 56 35.6875 56 \nQ 41.65625 56 45.828125 52.96875 \nQ 50 49.953125 52 44.1875 \nz\n\" id=\"DejaVuSans-109\"/>\n       <path d=\"M 9.421875 54.6875 \nL 18.40625 54.6875 \nL 18.40625 0 \nL 9.421875 0 \nz\nM 9.421875 75.984375 \nL 18.40625 75.984375 \nL 18.40625 64.59375 \nL 9.421875 64.59375 \nz\n\" id=\"DejaVuSans-105\"/>\n       <path d=\"M 48.78125 52.59375 \nL 48.78125 44.1875 \nQ 44.96875 46.296875 41.140625 47.34375 \nQ 37.3125 48.390625 33.40625 48.390625 \nQ 24.65625 48.390625 19.8125 42.84375 \nQ 14.984375 37.3125 14.984375 27.296875 \nQ 14.984375 17.28125 19.8125 11.734375 \nQ 24.65625 6.203125 33.40625 6.203125 \nQ 37.3125 6.203125 41.140625 7.25 \nQ 44.96875 8.296875 48.78125 10.40625 \nL 48.78125 2.09375 \nQ 45.015625 0.34375 40.984375 -0.53125 \nQ 36.96875 -1.421875 32.421875 -1.421875 \nQ 20.0625 -1.421875 12.78125 6.34375 \nQ 5.515625 14.109375 5.515625 27.296875 \nQ 5.515625 40.671875 12.859375 48.328125 \nQ 20.21875 56 33.015625 56 \nQ 37.15625 56 41.109375 55.140625 \nQ 45.0625 54.296875 48.78125 52.59375 \nz\n\" id=\"DejaVuSans-99\"/>\n       <path d=\"M 54.890625 33.015625 \nL 54.890625 0 \nL 45.90625 0 \nL 45.90625 32.71875 \nQ 45.90625 40.484375 42.875 44.328125 \nQ 39.84375 48.1875 33.796875 48.1875 \nQ 26.515625 48.1875 22.3125 43.546875 \nQ 18.109375 38.921875 18.109375 30.90625 \nL 18.109375 0 \nL 9.078125 0 \nL 9.078125 54.6875 \nL 18.109375 54.6875 \nL 18.109375 46.1875 \nQ 21.34375 51.125 25.703125 53.5625 \nQ 30.078125 56 35.796875 56 \nQ 45.21875 56 50.046875 50.171875 \nQ 54.890625 44.34375 54.890625 33.015625 \nz\n\" id=\"DejaVuSans-110\"/>\n       <path d=\"M 56.203125 29.59375 \nL 56.203125 25.203125 \nL 14.890625 25.203125 \nQ 15.484375 15.921875 20.484375 11.0625 \nQ 25.484375 6.203125 34.421875 6.203125 \nQ 39.59375 6.203125 44.453125 7.46875 \nQ 49.3125 8.734375 54.109375 11.28125 \nL 54.109375 2.78125 \nQ 49.265625 0.734375 44.1875 -0.34375 \nQ 39.109375 -1.421875 33.890625 -1.421875 \nQ 20.796875 -1.421875 13.15625 6.1875 \nQ 5.515625 13.8125 5.515625 26.8125 \nQ 5.515625 40.234375 12.765625 48.109375 \nQ 20.015625 56 32.328125 56 \nQ 43.359375 56 49.78125 48.890625 \nQ 56.203125 41.796875 56.203125 29.59375 \nz\nM 47.21875 32.234375 \nQ 47.125 39.59375 43.09375 43.984375 \nQ 39.0625 48.390625 32.421875 48.390625 \nQ 24.90625 48.390625 20.390625 44.140625 \nQ 15.875 39.890625 15.1875 32.171875 \nz\n\" id=\"DejaVuSans-101\"/>\n      </defs>\n      <g transform=\"translate(48.08188 272.162743)rotate(-45)scale(0.1 -0.1)\">\n       <use xlink:href=\"#DejaVuSans-82\"/>\n       <use x=\"69.451172\" xlink:href=\"#DejaVuSans-97\"/>\n       <use x=\"130.730469\" xlink:href=\"#DejaVuSans-109\"/>\n       <use x=\"228.142578\" xlink:href=\"#DejaVuSans-105\"/>\n       <use x=\"255.925781\" xlink:href=\"#DejaVuSans-99\"/>\n       <use x=\"310.90625\" xlink:href=\"#DejaVuSans-97\"/>\n       <use x=\"372.185547\" xlink:href=\"#DejaVuSans-110\"/>\n       <use x=\"435.564453\" xlink:href=\"#DejaVuSans-101\"/>\n      </g>\n     </g>\n    </g>\n    <g id=\"xtick_2\">\n     <g id=\"line2d_2\">\n      <g>\n       <use style=\"stroke:#000000;stroke-width:0.8;\" x=\"97.185625\" xlink:href=\"#m97e82c78f2\" y=\"224.64\"/>\n      </g>\n     </g>\n     <g id=\"text_2\">\n      <!-- Capomulin -->\n      <defs>\n       <path d=\"M 64.40625 67.28125 \nL 64.40625 56.890625 \nQ 59.421875 61.53125 53.78125 63.8125 \nQ 48.140625 66.109375 41.796875 66.109375 \nQ 29.296875 66.109375 22.65625 58.46875 \nQ 16.015625 50.828125 16.015625 36.375 \nQ 16.015625 21.96875 22.65625 14.328125 \nQ 29.296875 6.6875 41.796875 6.6875 \nQ 48.140625 6.6875 53.78125 8.984375 \nQ 59.421875 11.28125 64.40625 15.921875 \nL 64.40625 5.609375 \nQ 59.234375 2.09375 53.4375 0.328125 \nQ 47.65625 -1.421875 41.21875 -1.421875 \nQ 24.65625 -1.421875 15.125 8.703125 \nQ 5.609375 18.84375 5.609375 36.375 \nQ 5.609375 53.953125 15.125 64.078125 \nQ 24.65625 74.21875 41.21875 74.21875 \nQ 47.75 74.21875 53.53125 72.484375 \nQ 59.328125 70.75 64.40625 67.28125 \nz\n\" id=\"DejaVuSans-67\"/>\n       <path d=\"M 18.109375 8.203125 \nL 18.109375 -20.796875 \nL 9.078125 -20.796875 \nL 9.078125 54.6875 \nL 18.109375 54.6875 \nL 18.109375 46.390625 \nQ 20.953125 51.265625 25.265625 53.625 \nQ 29.59375 56 35.59375 56 \nQ 45.5625 56 51.78125 48.09375 \nQ 58.015625 40.1875 58.015625 27.296875 \nQ 58.015625 14.40625 51.78125 6.484375 \nQ 45.5625 -1.421875 35.59375 -1.421875 \nQ 29.59375 -1.421875 25.265625 0.953125 \nQ 20.953125 3.328125 18.109375 8.203125 \nz\nM 48.6875 27.296875 \nQ 48.6875 37.203125 44.609375 42.84375 \nQ 40.53125 48.484375 33.40625 48.484375 \nQ 26.265625 48.484375 22.1875 42.84375 \nQ 18.109375 37.203125 18.109375 27.296875 \nQ 18.109375 17.390625 22.1875 11.75 \nQ 26.265625 6.109375 33.40625 6.109375 \nQ 40.53125 6.109375 44.609375 11.75 \nQ 48.6875 17.390625 48.6875 27.296875 \nz\n\" id=\"DejaVuSans-112\"/>\n       <path d=\"M 30.609375 48.390625 \nQ 23.390625 48.390625 19.1875 42.75 \nQ 14.984375 37.109375 14.984375 27.296875 \nQ 14.984375 17.484375 19.15625 11.84375 \nQ 23.34375 6.203125 30.609375 6.203125 \nQ 37.796875 6.203125 41.984375 11.859375 \nQ 46.1875 17.53125 46.1875 27.296875 \nQ 46.1875 37.015625 41.984375 42.703125 \nQ 37.796875 48.390625 30.609375 48.390625 \nz\nM 30.609375 56 \nQ 42.328125 56 49.015625 48.375 \nQ 55.71875 40.765625 55.71875 27.296875 \nQ 55.71875 13.875 49.015625 6.21875 \nQ 42.328125 -1.421875 30.609375 -1.421875 \nQ 18.84375 -1.421875 12.171875 6.21875 \nQ 5.515625 13.875 5.515625 27.296875 \nQ 5.515625 40.765625 12.171875 48.375 \nQ 18.84375 56 30.609375 56 \nz\n\" id=\"DejaVuSans-111\"/>\n       <path d=\"M 8.5 21.578125 \nL 8.5 54.6875 \nL 17.484375 54.6875 \nL 17.484375 21.921875 \nQ 17.484375 14.15625 20.5 10.265625 \nQ 23.53125 6.390625 29.59375 6.390625 \nQ 36.859375 6.390625 41.078125 11.03125 \nQ 45.3125 15.671875 45.3125 23.6875 \nL 45.3125 54.6875 \nL 54.296875 54.6875 \nL 54.296875 0 \nL 45.3125 0 \nL 45.3125 8.40625 \nQ 42.046875 3.421875 37.71875 1 \nQ 33.40625 -1.421875 27.6875 -1.421875 \nQ 18.265625 -1.421875 13.375 4.4375 \nQ 8.5 10.296875 8.5 21.578125 \nz\nM 31.109375 56 \nz\n\" id=\"DejaVuSans-117\"/>\n       <path d=\"M 9.421875 75.984375 \nL 18.40625 75.984375 \nL 18.40625 0 \nL 9.421875 0 \nz\n\" id=\"DejaVuSans-108\"/>\n      </defs>\n      <g transform=\"translate(80.204014 274.878475)rotate(-45)scale(0.1 -0.1)\">\n       <use xlink:href=\"#DejaVuSans-67\"/>\n       <use x=\"69.824219\" xlink:href=\"#DejaVuSans-97\"/>\n       <use x=\"131.103516\" xlink:href=\"#DejaVuSans-112\"/>\n       <use x=\"194.580078\" xlink:href=\"#DejaVuSans-111\"/>\n       <use x=\"255.761719\" xlink:href=\"#DejaVuSans-109\"/>\n       <use x=\"353.173828\" xlink:href=\"#DejaVuSans-117\"/>\n       <use x=\"416.552734\" xlink:href=\"#DejaVuSans-108\"/>\n       <use x=\"444.335938\" xlink:href=\"#DejaVuSans-105\"/>\n       <use x=\"472.119141\" xlink:href=\"#DejaVuSans-110\"/>\n      </g>\n     </g>\n    </g>\n    <g id=\"xtick_3\">\n     <g id=\"line2d_3\">\n      <g>\n       <use style=\"stroke:#000000;stroke-width:0.8;\" x=\"130.665625\" xlink:href=\"#m97e82c78f2\" y=\"224.64\"/>\n      </g>\n     </g>\n     <g id=\"text_3\">\n      <!-- Infubinol -->\n      <defs>\n       <path d=\"M 9.8125 72.90625 \nL 19.671875 72.90625 \nL 19.671875 0 \nL 9.8125 0 \nz\n\" id=\"DejaVuSans-73\"/>\n       <path d=\"M 37.109375 75.984375 \nL 37.109375 68.5 \nL 28.515625 68.5 \nQ 23.6875 68.5 21.796875 66.546875 \nQ 19.921875 64.59375 19.921875 59.515625 \nL 19.921875 54.6875 \nL 34.71875 54.6875 \nL 34.71875 47.703125 \nL 19.921875 47.703125 \nL 19.921875 0 \nL 10.890625 0 \nL 10.890625 47.703125 \nL 2.296875 47.703125 \nL 2.296875 54.6875 \nL 10.890625 54.6875 \nL 10.890625 58.5 \nQ 10.890625 67.625 15.140625 71.796875 \nQ 19.390625 75.984375 28.609375 75.984375 \nz\n\" id=\"DejaVuSans-102\"/>\n       <path d=\"M 48.6875 27.296875 \nQ 48.6875 37.203125 44.609375 42.84375 \nQ 40.53125 48.484375 33.40625 48.484375 \nQ 26.265625 48.484375 22.1875 42.84375 \nQ 18.109375 37.203125 18.109375 27.296875 \nQ 18.109375 17.390625 22.1875 11.75 \nQ 26.265625 6.109375 33.40625 6.109375 \nQ 40.53125 6.109375 44.609375 11.75 \nQ 48.6875 17.390625 48.6875 27.296875 \nz\nM 18.109375 46.390625 \nQ 20.953125 51.265625 25.265625 53.625 \nQ 29.59375 56 35.59375 56 \nQ 45.5625 56 51.78125 48.09375 \nQ 58.015625 40.1875 58.015625 27.296875 \nQ 58.015625 14.40625 51.78125 6.484375 \nQ 45.5625 -1.421875 35.59375 -1.421875 \nQ 29.59375 -1.421875 25.265625 0.953125 \nQ 20.953125 3.328125 18.109375 8.203125 \nL 18.109375 0 \nL 9.078125 0 \nL 9.078125 75.984375 \nL 18.109375 75.984375 \nz\n\" id=\"DejaVuSans-98\"/>\n      </defs>\n      <g transform=\"translate(117.235016 267.776471)rotate(-45)scale(0.1 -0.1)\">\n       <use xlink:href=\"#DejaVuSans-73\"/>\n       <use x=\"29.492188\" xlink:href=\"#DejaVuSans-110\"/>\n       <use x=\"92.871094\" xlink:href=\"#DejaVuSans-102\"/>\n       <use x=\"128.076172\" xlink:href=\"#DejaVuSans-117\"/>\n       <use x=\"191.455078\" xlink:href=\"#DejaVuSans-98\"/>\n       <use x=\"254.931641\" xlink:href=\"#DejaVuSans-105\"/>\n       <use x=\"282.714844\" xlink:href=\"#DejaVuSans-110\"/>\n       <use x=\"346.09375\" xlink:href=\"#DejaVuSans-111\"/>\n       <use x=\"407.275391\" xlink:href=\"#DejaVuSans-108\"/>\n      </g>\n     </g>\n    </g>\n    <g id=\"xtick_4\">\n     <g id=\"line2d_4\">\n      <g>\n       <use style=\"stroke:#000000;stroke-width:0.8;\" x=\"164.145625\" xlink:href=\"#m97e82c78f2\" y=\"224.64\"/>\n      </g>\n     </g>\n     <g id=\"text_4\">\n      <!-- Placebo -->\n      <defs>\n       <path d=\"M 19.671875 64.796875 \nL 19.671875 37.40625 \nL 32.078125 37.40625 \nQ 38.96875 37.40625 42.71875 40.96875 \nQ 46.484375 44.53125 46.484375 51.125 \nQ 46.484375 57.671875 42.71875 61.234375 \nQ 38.96875 64.796875 32.078125 64.796875 \nz\nM 9.8125 72.90625 \nL 32.078125 72.90625 \nQ 44.34375 72.90625 50.609375 67.359375 \nQ 56.890625 61.8125 56.890625 51.125 \nQ 56.890625 40.328125 50.609375 34.8125 \nQ 44.34375 29.296875 32.078125 29.296875 \nL 19.671875 29.296875 \nL 19.671875 0 \nL 9.8125 0 \nz\n\" id=\"DejaVuSans-80\"/>\n      </defs>\n      <g transform=\"translate(152.288881 264.628741)rotate(-45)scale(0.1 -0.1)\">\n       <use xlink:href=\"#DejaVuSans-80\"/>\n       <use x=\"60.302734\" xlink:href=\"#DejaVuSans-108\"/>\n       <use x=\"88.085938\" xlink:href=\"#DejaVuSans-97\"/>\n       <use x=\"149.365234\" xlink:href=\"#DejaVuSans-99\"/>\n       <use x=\"204.345703\" xlink:href=\"#DejaVuSans-101\"/>\n       <use x=\"265.869141\" xlink:href=\"#DejaVuSans-98\"/>\n       <use x=\"329.345703\" xlink:href=\"#DejaVuSans-111\"/>\n      </g>\n     </g>\n    </g>\n    <g id=\"xtick_5\">\n     <g id=\"line2d_5\">\n      <g>\n       <use style=\"stroke:#000000;stroke-width:0.8;\" x=\"197.625625\" xlink:href=\"#m97e82c78f2\" y=\"224.64\"/>\n      </g>\n     </g>\n     <g id=\"text_5\">\n      <!-- Ceftamin -->\n      <defs>\n       <path d=\"M 18.3125 70.21875 \nL 18.3125 54.6875 \nL 36.8125 54.6875 \nL 36.8125 47.703125 \nL 18.3125 47.703125 \nL 18.3125 18.015625 \nQ 18.3125 11.328125 20.140625 9.421875 \nQ 21.96875 7.515625 27.59375 7.515625 \nL 36.8125 7.515625 \nL 36.8125 0 \nL 27.59375 0 \nQ 17.1875 0 13.234375 3.875 \nQ 9.28125 7.765625 9.28125 18.015625 \nL 9.28125 47.703125 \nL 2.6875 47.703125 \nL 2.6875 54.6875 \nL 9.28125 54.6875 \nL 9.28125 70.21875 \nz\n\" id=\"DejaVuSans-116\"/>\n      </defs>\n      <g transform=\"translate(183.469126 269.22825)rotate(-45)scale(0.1 -0.1)\">\n       <use xlink:href=\"#DejaVuSans-67\"/>\n       <use x=\"69.824219\" xlink:href=\"#DejaVuSans-101\"/>\n       <use x=\"131.347656\" xlink:href=\"#DejaVuSans-102\"/>\n       <use x=\"166.537109\" xlink:href=\"#DejaVuSans-116\"/>\n       <use x=\"205.746094\" xlink:href=\"#DejaVuSans-97\"/>\n       <use x=\"267.025391\" xlink:href=\"#DejaVuSans-109\"/>\n       <use x=\"364.4375\" xlink:href=\"#DejaVuSans-105\"/>\n       <use x=\"392.220703\" xlink:href=\"#DejaVuSans-110\"/>\n      </g>\n     </g>\n    </g>\n    <g id=\"xtick_6\">\n     <g id=\"line2d_6\">\n      <g>\n       <use style=\"stroke:#000000;stroke-width:0.8;\" x=\"231.105625\" xlink:href=\"#m97e82c78f2\" y=\"224.64\"/>\n      </g>\n     </g>\n     <g id=\"text_6\">\n      <!-- Stelasyn -->\n      <defs>\n       <path d=\"M 53.515625 70.515625 \nL 53.515625 60.890625 \nQ 47.90625 63.578125 42.921875 64.890625 \nQ 37.9375 66.21875 33.296875 66.21875 \nQ 25.25 66.21875 20.875 63.09375 \nQ 16.5 59.96875 16.5 54.203125 \nQ 16.5 49.359375 19.40625 46.890625 \nQ 22.3125 44.4375 30.421875 42.921875 \nL 36.375 41.703125 \nQ 47.40625 39.59375 52.65625 34.296875 \nQ 57.90625 29 57.90625 20.125 \nQ 57.90625 9.515625 50.796875 4.046875 \nQ 43.703125 -1.421875 29.984375 -1.421875 \nQ 24.8125 -1.421875 18.96875 -0.25 \nQ 13.140625 0.921875 6.890625 3.21875 \nL 6.890625 13.375 \nQ 12.890625 10.015625 18.65625 8.296875 \nQ 24.421875 6.59375 29.984375 6.59375 \nQ 38.421875 6.59375 43.015625 9.90625 \nQ 47.609375 13.234375 47.609375 19.390625 \nQ 47.609375 24.75 44.3125 27.78125 \nQ 41.015625 30.8125 33.5 32.328125 \nL 27.484375 33.5 \nQ 16.453125 35.6875 11.515625 40.375 \nQ 6.59375 45.0625 6.59375 53.421875 \nQ 6.59375 63.09375 13.40625 68.65625 \nQ 20.21875 74.21875 32.171875 74.21875 \nQ 37.3125 74.21875 42.625 73.28125 \nQ 47.953125 72.359375 53.515625 70.515625 \nz\n\" id=\"DejaVuSans-83\"/>\n       <path d=\"M 44.28125 53.078125 \nL 44.28125 44.578125 \nQ 40.484375 46.53125 36.375 47.5 \nQ 32.28125 48.484375 27.875 48.484375 \nQ 21.1875 48.484375 17.84375 46.4375 \nQ 14.5 44.390625 14.5 40.28125 \nQ 14.5 37.15625 16.890625 35.375 \nQ 19.28125 33.59375 26.515625 31.984375 \nL 29.59375 31.296875 \nQ 39.15625 29.25 43.1875 25.515625 \nQ 47.21875 21.78125 47.21875 15.09375 \nQ 47.21875 7.46875 41.1875 3.015625 \nQ 35.15625 -1.421875 24.609375 -1.421875 \nQ 20.21875 -1.421875 15.453125 -0.5625 \nQ 10.6875 0.296875 5.421875 2 \nL 5.421875 11.28125 \nQ 10.40625 8.6875 15.234375 7.390625 \nQ 20.0625 6.109375 24.8125 6.109375 \nQ 31.15625 6.109375 34.5625 8.28125 \nQ 37.984375 10.453125 37.984375 14.40625 \nQ 37.984375 18.0625 35.515625 20.015625 \nQ 33.0625 21.96875 24.703125 23.78125 \nL 21.578125 24.515625 \nQ 13.234375 26.265625 9.515625 29.90625 \nQ 5.8125 33.546875 5.8125 39.890625 \nQ 5.8125 47.609375 11.28125 51.796875 \nQ 16.75 56 26.8125 56 \nQ 31.78125 56 36.171875 55.265625 \nQ 40.578125 54.546875 44.28125 53.078125 \nz\n\" id=\"DejaVuSans-115\"/>\n       <path d=\"M 32.171875 -5.078125 \nQ 28.375 -14.84375 24.75 -17.8125 \nQ 21.140625 -20.796875 15.09375 -20.796875 \nL 7.90625 -20.796875 \nL 7.90625 -13.28125 \nL 13.1875 -13.28125 \nQ 16.890625 -13.28125 18.9375 -11.515625 \nQ 21 -9.765625 23.484375 -3.21875 \nL 25.09375 0.875 \nL 2.984375 54.6875 \nL 12.5 54.6875 \nL 29.59375 11.921875 \nL 46.6875 54.6875 \nL 56.203125 54.6875 \nz\n\" id=\"DejaVuSans-121\"/>\n      </defs>\n      <g transform=\"translate(217.926922 267.272658)rotate(-45)scale(0.1 -0.1)\">\n       <use xlink:href=\"#DejaVuSans-83\"/>\n       <use x=\"63.476562\" xlink:href=\"#DejaVuSans-116\"/>\n       <use x=\"102.685547\" xlink:href=\"#DejaVuSans-101\"/>\n       <use x=\"164.208984\" xlink:href=\"#DejaVuSans-108\"/>\n       <use x=\"191.992188\" xlink:href=\"#DejaVuSans-97\"/>\n       <use x=\"253.271484\" xlink:href=\"#DejaVuSans-115\"/>\n       <use x=\"305.371094\" xlink:href=\"#DejaVuSans-121\"/>\n       <use x=\"364.550781\" xlink:href=\"#DejaVuSans-110\"/>\n      </g>\n     </g>\n    </g>\n    <g id=\"xtick_7\">\n     <g id=\"line2d_7\">\n      <g>\n       <use style=\"stroke:#000000;stroke-width:0.8;\" x=\"264.585625\" xlink:href=\"#m97e82c78f2\" y=\"224.64\"/>\n      </g>\n     </g>\n     <g id=\"text_7\">\n      <!-- Zoniferol -->\n      <defs>\n       <path d=\"M 5.609375 72.90625 \nL 62.890625 72.90625 \nL 62.890625 65.375 \nL 16.796875 8.296875 \nL 64.015625 8.296875 \nL 64.015625 0 \nL 4.5 0 \nL 4.5 7.515625 \nL 50.59375 64.59375 \nL 5.609375 64.59375 \nz\n\" id=\"DejaVuSans-90\"/>\n       <path d=\"M 41.109375 46.296875 \nQ 39.59375 47.171875 37.8125 47.578125 \nQ 36.03125 48 33.890625 48 \nQ 26.265625 48 22.1875 43.046875 \nQ 18.109375 38.09375 18.109375 28.8125 \nL 18.109375 0 \nL 9.078125 0 \nL 9.078125 54.6875 \nL 18.109375 54.6875 \nL 18.109375 46.1875 \nQ 20.953125 51.171875 25.484375 53.578125 \nQ 30.03125 56 36.53125 56 \nQ 37.453125 56 38.578125 55.875 \nQ 39.703125 55.765625 41.0625 55.515625 \nz\n\" id=\"DejaVuSans-114\"/>\n      </defs>\n      <g transform=\"translate(250.710864 268.664774)rotate(-45)scale(0.1 -0.1)\">\n       <use xlink:href=\"#DejaVuSans-90\"/>\n       <use x=\"68.505859\" xlink:href=\"#DejaVuSans-111\"/>\n       <use x=\"129.6875\" xlink:href=\"#DejaVuSans-110\"/>\n       <use x=\"193.066406\" xlink:href=\"#DejaVuSans-105\"/>\n       <use x=\"220.849609\" xlink:href=\"#DejaVuSans-102\"/>\n       <use x=\"256.054688\" xlink:href=\"#DejaVuSans-101\"/>\n       <use x=\"317.578125\" xlink:href=\"#DejaVuSans-114\"/>\n       <use x=\"358.660156\" xlink:href=\"#DejaVuSans-111\"/>\n       <use x=\"419.841797\" xlink:href=\"#DejaVuSans-108\"/>\n      </g>\n     </g>\n    </g>\n    <g id=\"xtick_8\">\n     <g id=\"line2d_8\">\n      <g>\n       <use style=\"stroke:#000000;stroke-width:0.8;\" x=\"298.065625\" xlink:href=\"#m97e82c78f2\" y=\"224.64\"/>\n      </g>\n     </g>\n     <g id=\"text_8\">\n      <!-- Ketapril -->\n      <defs>\n       <path d=\"M 9.8125 72.90625 \nL 19.671875 72.90625 \nL 19.671875 42.09375 \nL 52.390625 72.90625 \nL 65.09375 72.90625 \nL 28.90625 38.921875 \nL 67.671875 0 \nL 54.6875 0 \nL 19.671875 35.109375 \nL 19.671875 0 \nL 9.8125 0 \nz\n\" id=\"DejaVuSans-75\"/>\n      </defs>\n      <g transform=\"translate(286.310527 264.425448)rotate(-45)scale(0.1 -0.1)\">\n       <use xlink:href=\"#DejaVuSans-75\"/>\n       <use x=\"65.498047\" xlink:href=\"#DejaVuSans-101\"/>\n       <use x=\"127.021484\" xlink:href=\"#DejaVuSans-116\"/>\n       <use x=\"166.230469\" xlink:href=\"#DejaVuSans-97\"/>\n       <use x=\"227.509766\" xlink:href=\"#DejaVuSans-112\"/>\n       <use x=\"290.986328\" xlink:href=\"#DejaVuSans-114\"/>\n       <use x=\"332.099609\" xlink:href=\"#DejaVuSans-105\"/>\n       <use x=\"359.882812\" xlink:href=\"#DejaVuSans-108\"/>\n      </g>\n     </g>\n    </g>\n    <g id=\"xtick_9\">\n     <g id=\"line2d_9\">\n      <g>\n       <use style=\"stroke:#000000;stroke-width:0.8;\" x=\"331.545625\" xlink:href=\"#m97e82c78f2\" y=\"224.64\"/>\n      </g>\n     </g>\n     <g id=\"text_9\">\n      <!-- Propriva -->\n      <defs>\n       <path d=\"M 2.984375 54.6875 \nL 12.5 54.6875 \nL 29.59375 8.796875 \nL 46.6875 54.6875 \nL 56.203125 54.6875 \nL 35.6875 0 \nL 23.484375 0 \nz\n\" id=\"DejaVuSans-118\"/>\n      </defs>\n      <g transform=\"translate(318.810521 266.385459)rotate(-45)scale(0.1 -0.1)\">\n       <use xlink:href=\"#DejaVuSans-80\"/>\n       <use x=\"60.287109\" xlink:href=\"#DejaVuSans-114\"/>\n       <use x=\"101.369141\" xlink:href=\"#DejaVuSans-111\"/>\n       <use x=\"162.550781\" xlink:href=\"#DejaVuSans-112\"/>\n       <use x=\"226.027344\" xlink:href=\"#DejaVuSans-114\"/>\n       <use x=\"267.140625\" xlink:href=\"#DejaVuSans-105\"/>\n       <use x=\"294.923828\" xlink:href=\"#DejaVuSans-118\"/>\n       <use x=\"354.103516\" xlink:href=\"#DejaVuSans-97\"/>\n      </g>\n     </g>\n    </g>\n    <g id=\"xtick_10\">\n     <g id=\"line2d_10\">\n      <g>\n       <use style=\"stroke:#000000;stroke-width:0.8;\" x=\"365.025625\" xlink:href=\"#m97e82c78f2\" y=\"224.64\"/>\n      </g>\n     </g>\n     <g id=\"text_10\">\n      <!-- Naftisol -->\n      <defs>\n       <path d=\"M 9.8125 72.90625 \nL 23.09375 72.90625 \nL 55.421875 11.921875 \nL 55.421875 72.90625 \nL 64.984375 72.90625 \nL 64.984375 0 \nL 51.703125 0 \nL 19.390625 60.984375 \nL 19.390625 0 \nL 9.8125 0 \nz\n\" id=\"DejaVuSans-78\"/>\n      </defs>\n      <g transform=\"translate(353.565523 263.835456)rotate(-45)scale(0.1 -0.1)\">\n       <use xlink:href=\"#DejaVuSans-78\"/>\n       <use x=\"74.804688\" xlink:href=\"#DejaVuSans-97\"/>\n       <use x=\"136.083984\" xlink:href=\"#DejaVuSans-102\"/>\n       <use x=\"171.273438\" xlink:href=\"#DejaVuSans-116\"/>\n       <use x=\"210.482422\" xlink:href=\"#DejaVuSans-105\"/>\n       <use x=\"238.265625\" xlink:href=\"#DejaVuSans-115\"/>\n       <use x=\"290.365234\" xlink:href=\"#DejaVuSans-111\"/>\n       <use x=\"351.546875\" xlink:href=\"#DejaVuSans-108\"/>\n      </g>\n     </g>\n    </g>\n    <g id=\"text_11\">\n     <!-- Drug Regimens -->\n     <defs>\n      <path d=\"M 19.671875 64.796875 \nL 19.671875 8.109375 \nL 31.59375 8.109375 \nQ 46.6875 8.109375 53.6875 14.9375 \nQ 60.6875 21.78125 60.6875 36.53125 \nQ 60.6875 51.171875 53.6875 57.984375 \nQ 46.6875 64.796875 31.59375 64.796875 \nz\nM 9.8125 72.90625 \nL 30.078125 72.90625 \nQ 51.265625 72.90625 61.171875 64.09375 \nQ 71.09375 55.28125 71.09375 36.53125 \nQ 71.09375 17.671875 61.125 8.828125 \nQ 51.171875 0 30.078125 0 \nL 9.8125 0 \nz\n\" id=\"DejaVuSans-68\"/>\n      <path d=\"M 45.40625 27.984375 \nQ 45.40625 37.75 41.375 43.109375 \nQ 37.359375 48.484375 30.078125 48.484375 \nQ 22.859375 48.484375 18.828125 43.109375 \nQ 14.796875 37.75 14.796875 27.984375 \nQ 14.796875 18.265625 18.828125 12.890625 \nQ 22.859375 7.515625 30.078125 7.515625 \nQ 37.359375 7.515625 41.375 12.890625 \nQ 45.40625 18.265625 45.40625 27.984375 \nz\nM 54.390625 6.78125 \nQ 54.390625 -7.171875 48.1875 -13.984375 \nQ 42 -20.796875 29.203125 -20.796875 \nQ 24.46875 -20.796875 20.265625 -20.09375 \nQ 16.0625 -19.390625 12.109375 -17.921875 \nL 12.109375 -9.1875 \nQ 16.0625 -11.328125 19.921875 -12.34375 \nQ 23.78125 -13.375 27.78125 -13.375 \nQ 36.625 -13.375 41.015625 -8.765625 \nQ 45.40625 -4.15625 45.40625 5.171875 \nL 45.40625 9.625 \nQ 42.625 4.78125 38.28125 2.390625 \nQ 33.9375 0 27.875 0 \nQ 17.828125 0 11.671875 7.65625 \nQ 5.515625 15.328125 5.515625 27.984375 \nQ 5.515625 40.671875 11.671875 48.328125 \nQ 17.828125 56 27.875 56 \nQ 33.9375 56 38.28125 53.609375 \nQ 42.625 51.21875 45.40625 46.390625 \nL 45.40625 54.6875 \nL 54.390625 54.6875 \nz\n\" id=\"DejaVuSans-103\"/>\n      <path id=\"DejaVuSans-32\"/>\n     </defs>\n     <g transform=\"translate(175.696875 287.947473)scale(0.1 -0.1)\">\n      <use xlink:href=\"#DejaVuSans-68\"/>\n      <use x=\"77.001953\" xlink:href=\"#DejaVuSans-114\"/>\n      <use x=\"118.115234\" xlink:href=\"#DejaVuSans-117\"/>\n      <use x=\"181.494141\" xlink:href=\"#DejaVuSans-103\"/>\n      <use x=\"244.970703\" xlink:href=\"#DejaVuSans-32\"/>\n      <use x=\"276.757812\" xlink:href=\"#DejaVuSans-82\"/>\n      <use x=\"346.177734\" xlink:href=\"#DejaVuSans-101\"/>\n      <use x=\"407.701172\" xlink:href=\"#DejaVuSans-103\"/>\n      <use x=\"471.177734\" xlink:href=\"#DejaVuSans-105\"/>\n      <use x=\"498.960938\" xlink:href=\"#DejaVuSans-109\"/>\n      <use x=\"596.373047\" xlink:href=\"#DejaVuSans-101\"/>\n      <use x=\"657.896484\" xlink:href=\"#DejaVuSans-110\"/>\n      <use x=\"721.275391\" xlink:href=\"#DejaVuSans-115\"/>\n     </g>\n    </g>\n   </g>\n   <g id=\"matplotlib.axis_2\">\n    <g id=\"ytick_1\">\n     <g id=\"line2d_11\">\n      <defs>\n       <path d=\"M 0 0 \nL -3.5 0 \n\" id=\"m53a3a4e26b\" style=\"stroke:#000000;stroke-width:0.8;\"/>\n      </defs>\n      <g>\n       <use style=\"stroke:#000000;stroke-width:0.8;\" x=\"46.965625\" xlink:href=\"#m53a3a4e26b\" y=\"224.64\"/>\n      </g>\n     </g>\n     <g id=\"text_12\">\n      <!-- 0 -->\n      <defs>\n       <path d=\"M 31.78125 66.40625 \nQ 24.171875 66.40625 20.328125 58.90625 \nQ 16.5 51.421875 16.5 36.375 \nQ 16.5 21.390625 20.328125 13.890625 \nQ 24.171875 6.390625 31.78125 6.390625 \nQ 39.453125 6.390625 43.28125 13.890625 \nQ 47.125 21.390625 47.125 36.375 \nQ 47.125 51.421875 43.28125 58.90625 \nQ 39.453125 66.40625 31.78125 66.40625 \nz\nM 31.78125 74.21875 \nQ 44.046875 74.21875 50.515625 64.515625 \nQ 56.984375 54.828125 56.984375 36.375 \nQ 56.984375 17.96875 50.515625 8.265625 \nQ 44.046875 -1.421875 31.78125 -1.421875 \nQ 19.53125 -1.421875 13.0625 8.265625 \nQ 6.59375 17.96875 6.59375 36.375 \nQ 6.59375 54.828125 13.0625 64.515625 \nQ 19.53125 74.21875 31.78125 74.21875 \nz\n\" id=\"DejaVuSans-48\"/>\n      </defs>\n      <g transform=\"translate(33.603125 228.439219)scale(0.1 -0.1)\">\n       <use xlink:href=\"#DejaVuSans-48\"/>\n      </g>\n     </g>\n    </g>\n    <g id=\"ytick_2\">\n     <g id=\"line2d_12\">\n      <g>\n       <use style=\"stroke:#000000;stroke-width:0.8;\" x=\"46.965625\" xlink:href=\"#m53a3a4e26b\" y=\"179.621366\"/>\n      </g>\n     </g>\n     <g id=\"text_13\">\n      <!-- 50 -->\n      <defs>\n       <path d=\"M 10.796875 72.90625 \nL 49.515625 72.90625 \nL 49.515625 64.59375 \nL 19.828125 64.59375 \nL 19.828125 46.734375 \nQ 21.96875 47.46875 24.109375 47.828125 \nQ 26.265625 48.1875 28.421875 48.1875 \nQ 40.625 48.1875 47.75 41.5 \nQ 54.890625 34.8125 54.890625 23.390625 \nQ 54.890625 11.625 47.5625 5.09375 \nQ 40.234375 -1.421875 26.90625 -1.421875 \nQ 22.3125 -1.421875 17.546875 -0.640625 \nQ 12.796875 0.140625 7.71875 1.703125 \nL 7.71875 11.625 \nQ 12.109375 9.234375 16.796875 8.0625 \nQ 21.484375 6.890625 26.703125 6.890625 \nQ 35.15625 6.890625 40.078125 11.328125 \nQ 45.015625 15.765625 45.015625 23.390625 \nQ 45.015625 31 40.078125 35.4375 \nQ 35.15625 39.890625 26.703125 39.890625 \nQ 22.75 39.890625 18.8125 39.015625 \nQ 14.890625 38.140625 10.796875 36.28125 \nz\n\" id=\"DejaVuSans-53\"/>\n      </defs>\n      <g transform=\"translate(27.240625 183.420585)scale(0.1 -0.1)\">\n       <use xlink:href=\"#DejaVuSans-53\"/>\n       <use x=\"63.623047\" xlink:href=\"#DejaVuSans-48\"/>\n      </g>\n     </g>\n    </g>\n    <g id=\"ytick_3\">\n     <g id=\"line2d_13\">\n      <g>\n       <use style=\"stroke:#000000;stroke-width:0.8;\" x=\"46.965625\" xlink:href=\"#m53a3a4e26b\" y=\"134.602733\"/>\n      </g>\n     </g>\n     <g id=\"text_14\">\n      <!-- 100 -->\n      <defs>\n       <path d=\"M 12.40625 8.296875 \nL 28.515625 8.296875 \nL 28.515625 63.921875 \nL 10.984375 60.40625 \nL 10.984375 69.390625 \nL 28.421875 72.90625 \nL 38.28125 72.90625 \nL 38.28125 8.296875 \nL 54.390625 8.296875 \nL 54.390625 0 \nL 12.40625 0 \nz\n\" id=\"DejaVuSans-49\"/>\n      </defs>\n      <g transform=\"translate(20.878125 138.401952)scale(0.1 -0.1)\">\n       <use xlink:href=\"#DejaVuSans-49\"/>\n       <use x=\"63.623047\" xlink:href=\"#DejaVuSans-48\"/>\n       <use x=\"127.246094\" xlink:href=\"#DejaVuSans-48\"/>\n      </g>\n     </g>\n    </g>\n    <g id=\"ytick_4\">\n     <g id=\"line2d_14\">\n      <g>\n       <use style=\"stroke:#000000;stroke-width:0.8;\" x=\"46.965625\" xlink:href=\"#m53a3a4e26b\" y=\"89.584099\"/>\n      </g>\n     </g>\n     <g id=\"text_15\">\n      <!-- 150 -->\n      <g transform=\"translate(20.878125 93.383318)scale(0.1 -0.1)\">\n       <use xlink:href=\"#DejaVuSans-49\"/>\n       <use x=\"63.623047\" xlink:href=\"#DejaVuSans-53\"/>\n       <use x=\"127.246094\" xlink:href=\"#DejaVuSans-48\"/>\n      </g>\n     </g>\n    </g>\n    <g id=\"ytick_5\">\n     <g id=\"line2d_15\">\n      <g>\n       <use style=\"stroke:#000000;stroke-width:0.8;\" x=\"46.965625\" xlink:href=\"#m53a3a4e26b\" y=\"44.565466\"/>\n      </g>\n     </g>\n     <g id=\"text_16\">\n      <!-- 200 -->\n      <defs>\n       <path d=\"M 19.1875 8.296875 \nL 53.609375 8.296875 \nL 53.609375 0 \nL 7.328125 0 \nL 7.328125 8.296875 \nQ 12.9375 14.109375 22.625 23.890625 \nQ 32.328125 33.6875 34.8125 36.53125 \nQ 39.546875 41.84375 41.421875 45.53125 \nQ 43.3125 49.21875 43.3125 52.78125 \nQ 43.3125 58.59375 39.234375 62.25 \nQ 35.15625 65.921875 28.609375 65.921875 \nQ 23.96875 65.921875 18.8125 64.3125 \nQ 13.671875 62.703125 7.8125 59.421875 \nL 7.8125 69.390625 \nQ 13.765625 71.78125 18.9375 73 \nQ 24.125 74.21875 28.421875 74.21875 \nQ 39.75 74.21875 46.484375 68.546875 \nQ 53.21875 62.890625 53.21875 53.421875 \nQ 53.21875 48.921875 51.53125 44.890625 \nQ 49.859375 40.875 45.40625 35.40625 \nQ 44.1875 33.984375 37.640625 27.21875 \nQ 31.109375 20.453125 19.1875 8.296875 \nz\n\" id=\"DejaVuSans-50\"/>\n      </defs>\n      <g transform=\"translate(20.878125 48.364685)scale(0.1 -0.1)\">\n       <use xlink:href=\"#DejaVuSans-50\"/>\n       <use x=\"63.623047\" xlink:href=\"#DejaVuSans-48\"/>\n       <use x=\"127.246094\" xlink:href=\"#DejaVuSans-48\"/>\n      </g>\n     </g>\n    </g>\n    <g id=\"text_17\">\n     <!-- Total Timepoints -->\n     <defs>\n      <path d=\"M -0.296875 72.90625 \nL 61.375 72.90625 \nL 61.375 64.59375 \nL 35.5 64.59375 \nL 35.5 0 \nL 25.59375 0 \nL 25.59375 64.59375 \nL -0.296875 64.59375 \nz\n\" id=\"DejaVuSans-84\"/>\n     </defs>\n     <g transform=\"translate(14.798438 157.766094)rotate(-90)scale(0.1 -0.1)\">\n      <use xlink:href=\"#DejaVuSans-84\"/>\n      <use x=\"60.818359\" xlink:href=\"#DejaVuSans-111\"/>\n      <use x=\"122\" xlink:href=\"#DejaVuSans-116\"/>\n      <use x=\"161.208984\" xlink:href=\"#DejaVuSans-97\"/>\n      <use x=\"222.488281\" xlink:href=\"#DejaVuSans-108\"/>\n      <use x=\"250.271484\" xlink:href=\"#DejaVuSans-32\"/>\n      <use x=\"282.058594\" xlink:href=\"#DejaVuSans-84\"/>\n      <use x=\"343.095703\" xlink:href=\"#DejaVuSans-105\"/>\n      <use x=\"370.878906\" xlink:href=\"#DejaVuSans-109\"/>\n      <use x=\"468.291016\" xlink:href=\"#DejaVuSans-101\"/>\n      <use x=\"529.814453\" xlink:href=\"#DejaVuSans-112\"/>\n      <use x=\"593.291016\" xlink:href=\"#DejaVuSans-111\"/>\n      <use x=\"654.472656\" xlink:href=\"#DejaVuSans-105\"/>\n      <use x=\"682.255859\" xlink:href=\"#DejaVuSans-110\"/>\n      <use x=\"745.634766\" xlink:href=\"#DejaVuSans-116\"/>\n      <use x=\"784.84375\" xlink:href=\"#DejaVuSans-115\"/>\n     </g>\n    </g>\n   </g>\n   <g id=\"patch_13\">\n    <path d=\"M 46.965625 224.64 \nL 46.965625 7.2 \n\" style=\"fill:none;stroke:#000000;stroke-linecap:square;stroke-linejoin:miter;stroke-width:0.8;\"/>\n   </g>\n   <g id=\"patch_14\">\n    <path d=\"M 381.765625 224.64 \nL 381.765625 7.2 \n\" style=\"fill:none;stroke:#000000;stroke-linecap:square;stroke-linejoin:miter;stroke-width:0.8;\"/>\n   </g>\n   <g id=\"patch_15\">\n    <path d=\"M 46.965625 224.64 \nL 381.765625 224.64 \n\" style=\"fill:none;stroke:#000000;stroke-linecap:square;stroke-linejoin:miter;stroke-width:0.8;\"/>\n   </g>\n   <g id=\"patch_16\">\n    <path d=\"M 46.965625 7.2 \nL 381.765625 7.2 \n\" style=\"fill:none;stroke:#000000;stroke-linecap:square;stroke-linejoin:miter;stroke-width:0.8;\"/>\n   </g>\n   <g id=\"legend_1\">\n    <g id=\"patch_17\">\n     <path d=\"M 259.073438 29.878125 \nL 374.765625 29.878125 \nQ 376.765625 29.878125 376.765625 27.878125 \nL 376.765625 14.2 \nQ 376.765625 12.2 374.765625 12.2 \nL 259.073438 12.2 \nQ 257.073438 12.2 257.073438 14.2 \nL 257.073438 27.878125 \nQ 257.073438 29.878125 259.073438 29.878125 \nz\n\" style=\"fill:#ffffff;opacity:0.8;stroke:#cccccc;stroke-linejoin:miter;\"/>\n    </g>\n    <g id=\"patch_18\">\n     <path d=\"M 261.073438 23.798437 \nL 281.073438 23.798437 \nL 281.073438 16.798437 \nL 261.073438 16.798437 \nz\n\" style=\"fill:#1f77b4;\"/>\n    </g>\n    <g id=\"text_18\">\n     <!-- Total Timepoints -->\n     <g transform=\"translate(289.073438 23.798437)scale(0.1 -0.1)\">\n      <use xlink:href=\"#DejaVuSans-84\"/>\n      <use x=\"60.818359\" xlink:href=\"#DejaVuSans-111\"/>\n      <use x=\"122\" xlink:href=\"#DejaVuSans-116\"/>\n      <use x=\"161.208984\" xlink:href=\"#DejaVuSans-97\"/>\n      <use x=\"222.488281\" xlink:href=\"#DejaVuSans-108\"/>\n      <use x=\"250.271484\" xlink:href=\"#DejaVuSans-32\"/>\n      <use x=\"282.058594\" xlink:href=\"#DejaVuSans-84\"/>\n      <use x=\"343.095703\" xlink:href=\"#DejaVuSans-105\"/>\n      <use x=\"370.878906\" xlink:href=\"#DejaVuSans-109\"/>\n      <use x=\"468.291016\" xlink:href=\"#DejaVuSans-101\"/>\n      <use x=\"529.814453\" xlink:href=\"#DejaVuSans-112\"/>\n      <use x=\"593.291016\" xlink:href=\"#DejaVuSans-111\"/>\n      <use x=\"654.472656\" xlink:href=\"#DejaVuSans-105\"/>\n      <use x=\"682.255859\" xlink:href=\"#DejaVuSans-110\"/>\n      <use x=\"745.634766\" xlink:href=\"#DejaVuSans-116\"/>\n      <use x=\"784.84375\" xlink:href=\"#DejaVuSans-115\"/>\n     </g>\n    </g>\n   </g>\n  </g>\n </g>\n <defs>\n  <clipPath id=\"pb6c14c94b0\">\n   <rect height=\"217.44\" width=\"334.8\" x=\"46.965625\" y=\"7.2\"/>\n  </clipPath>\n </defs>\n</svg>\n",
      "image/png": "[encoded data removed]"
     },
     "metadata": {
      "needs_background": "light"
     }
    }
   ],
   "source": [
    "# Generate a bar plot showing the total number of timepoints for all mice tested for each drug regimen using Pandas.\n",
    "drug_names = mouse_study_df['Drug Regimen'].unique()\n",
    "total_timepoints = [mouse_study_df[mouse_study_df['Drug Regimen'] == drug]['Timepoint'].count() for drug in drug_names]\n",
    "\n",
    "timestamps= pd.DataFrame({\n",
    "    'Drug Regimens': drug_names,\n",
    "    'Total Timepoints': total_timepoints\n",
    "})\n",
    "\n",
    "ax = timestamps.plot.bar(x='Drug Regimens', y='Total Timepoints', rot=45)\n",
    "ax.set_ylabel('Total Timepoints')"
   ]
  },
  {
   "cell_type": "code",
   "execution_count": 127,
   "metadata": {},
   "outputs": [
    {
     "output_type": "error",
     "ename": "AttributeError",
     "evalue": "'Rectangle' object has no property 'figsize'",
     "traceback": [
      "\u001b[0;31m---------------------------------------------------------------------------\u001b[0m",
      "\u001b[0;31mAttributeError\u001b[0m                            Traceback (most recent call last)",
      "\u001b[0;32m<ipython-input-127-d8ba48e6df64>\u001b[0m in \u001b[0;36m<module>\u001b[0;34m\u001b[0m\n\u001b[1;32m      1\u001b[0m \u001b[0;31m# Generate a bar plot showing the total number of timepoints for all mice tested for each drug regimen using pyplot.\u001b[0m\u001b[0;34m\u001b[0m\u001b[0;34m\u001b[0m\u001b[0;34m\u001b[0m\u001b[0m\n\u001b[0;32m----> 2\u001b[0;31m \u001b[0mplt\u001b[0m\u001b[0;34m.\u001b[0m\u001b[0mbar\u001b[0m\u001b[0;34m(\u001b[0m\u001b[0mdrug_names\u001b[0m\u001b[0;34m,\u001b[0m \u001b[0mtotal_timepoints\u001b[0m\u001b[0;34m,\u001b[0m \u001b[0mfigsize\u001b[0m \u001b[0;34m=\u001b[0m \u001b[0;34m(\u001b[0m\u001b[0;36m12\u001b[0m\u001b[0;34m,\u001b[0m\u001b[0;36m2\u001b[0m\u001b[0;34m)\u001b[0m\u001b[0;34m)\u001b[0m\u001b[0;34m\u001b[0m\u001b[0;34m\u001b[0m\u001b[0m\n\u001b[0m\u001b[1;32m      3\u001b[0m \u001b[0mplt\u001b[0m\u001b[0;34m.\u001b[0m\u001b[0mshow\u001b[0m\u001b[0;34m(\u001b[0m\u001b[0;34m)\u001b[0m\u001b[0;34m\u001b[0m\u001b[0;34m\u001b[0m\u001b[0m\n\u001b[1;32m      4\u001b[0m \u001b[0mplt\u001b[0m\u001b[0;34m.\u001b[0m\u001b[0mtight_layout\u001b[0m\u001b[0;34m(\u001b[0m\u001b[0;34m)\u001b[0m\u001b[0;34m\u001b[0m\u001b[0;34m\u001b[0m\u001b[0m\n",
      "\u001b[0;32m~/opt/anaconda3/envs/PythonData/lib/python3.6/site-packages/matplotlib/pyplot.py\u001b[0m in \u001b[0;36mbar\u001b[0;34m(x, height, width, bottom, align, data, **kwargs)\u001b[0m\n\u001b[1;32m   2439\u001b[0m     return gca().bar(\n\u001b[1;32m   2440\u001b[0m         \u001b[0mx\u001b[0m\u001b[0;34m,\u001b[0m \u001b[0mheight\u001b[0m\u001b[0;34m,\u001b[0m \u001b[0mwidth\u001b[0m\u001b[0;34m=\u001b[0m\u001b[0mwidth\u001b[0m\u001b[0;34m,\u001b[0m \u001b[0mbottom\u001b[0m\u001b[0;34m=\u001b[0m\u001b[0mbottom\u001b[0m\u001b[0;34m,\u001b[0m \u001b[0malign\u001b[0m\u001b[0;34m=\u001b[0m\u001b[0malign\u001b[0m\u001b[0;34m,\u001b[0m\u001b[0;34m\u001b[0m\u001b[0;34m\u001b[0m\u001b[0m\n\u001b[0;32m-> 2441\u001b[0;31m         **({\"data\": data} if data is not None else {}), **kwargs)\n\u001b[0m\u001b[1;32m   2442\u001b[0m \u001b[0;34m\u001b[0m\u001b[0m\n\u001b[1;32m   2443\u001b[0m \u001b[0;34m\u001b[0m\u001b[0m\n",
      "\u001b[0;32m~/opt/anaconda3/envs/PythonData/lib/python3.6/site-packages/matplotlib/__init__.py\u001b[0m in \u001b[0;36minner\u001b[0;34m(ax, data, *args, **kwargs)\u001b[0m\n\u001b[1;32m   1597\u001b[0m     \u001b[0;32mdef\u001b[0m \u001b[0minner\u001b[0m\u001b[0;34m(\u001b[0m\u001b[0max\u001b[0m\u001b[0;34m,\u001b[0m \u001b[0;34m*\u001b[0m\u001b[0margs\u001b[0m\u001b[0;34m,\u001b[0m \u001b[0mdata\u001b[0m\u001b[0;34m=\u001b[0m\u001b[0;32mNone\u001b[0m\u001b[0;34m,\u001b[0m \u001b[0;34m**\u001b[0m\u001b[0mkwargs\u001b[0m\u001b[0;34m)\u001b[0m\u001b[0;34m:\u001b[0m\u001b[0;34m\u001b[0m\u001b[0;34m\u001b[0m\u001b[0m\n\u001b[1;32m   1598\u001b[0m         \u001b[0;32mif\u001b[0m \u001b[0mdata\u001b[0m \u001b[0;32mis\u001b[0m \u001b[0;32mNone\u001b[0m\u001b[0;34m:\u001b[0m\u001b[0;34m\u001b[0m\u001b[0;34m\u001b[0m\u001b[0m\n\u001b[0;32m-> 1599\u001b[0;31m             \u001b[0;32mreturn\u001b[0m \u001b[0mfunc\u001b[0m\u001b[0;34m(\u001b[0m\u001b[0max\u001b[0m\u001b[0;34m,\u001b[0m \u001b[0;34m*\u001b[0m\u001b[0mmap\u001b[0m\u001b[0;34m(\u001b[0m\u001b[0msanitize_sequence\u001b[0m\u001b[0;34m,\u001b[0m \u001b[0margs\u001b[0m\u001b[0;34m)\u001b[0m\u001b[0;34m,\u001b[0m \u001b[0;34m**\u001b[0m\u001b[0mkwargs\u001b[0m\u001b[0;34m)\u001b[0m\u001b[0;34m\u001b[0m\u001b[0;34m\u001b[0m\u001b[0m\n\u001b[0m\u001b[1;32m   1600\u001b[0m \u001b[0;34m\u001b[0m\u001b[0m\n\u001b[1;32m   1601\u001b[0m         \u001b[0mbound\u001b[0m \u001b[0;34m=\u001b[0m \u001b[0mnew_sig\u001b[0m\u001b[0;34m.\u001b[0m\u001b[0mbind\u001b[0m\u001b[0;34m(\u001b[0m\u001b[0max\u001b[0m\u001b[0;34m,\u001b[0m \u001b[0;34m*\u001b[0m\u001b[0margs\u001b[0m\u001b[0;34m,\u001b[0m \u001b[0;34m**\u001b[0m\u001b[0mkwargs\u001b[0m\u001b[0;34m)\u001b[0m\u001b[0;34m\u001b[0m\u001b[0;34m\u001b[0m\u001b[0m\n",
      "\u001b[0;32m~/opt/anaconda3/envs/PythonData/lib/python3.6/site-packages/matplotlib/axes/_axes.py\u001b[0m in \u001b[0;36mbar\u001b[0;34m(self, x, height, width, bottom, align, **kwargs)\u001b[0m\n\u001b[1;32m   2429\u001b[0m                 \u001b[0mlabel\u001b[0m\u001b[0;34m=\u001b[0m\u001b[0;34m'_nolegend_'\u001b[0m\u001b[0;34m,\u001b[0m\u001b[0;34m\u001b[0m\u001b[0;34m\u001b[0m\u001b[0m\n\u001b[1;32m   2430\u001b[0m                 )\n\u001b[0;32m-> 2431\u001b[0;31m             \u001b[0mr\u001b[0m\u001b[0;34m.\u001b[0m\u001b[0mupdate\u001b[0m\u001b[0;34m(\u001b[0m\u001b[0mkwargs\u001b[0m\u001b[0;34m)\u001b[0m\u001b[0;34m\u001b[0m\u001b[0;34m\u001b[0m\u001b[0m\n\u001b[0m\u001b[1;32m   2432\u001b[0m             \u001b[0mr\u001b[0m\u001b[0;34m.\u001b[0m\u001b[0mget_path\u001b[0m\u001b[0;34m(\u001b[0m\u001b[0;34m)\u001b[0m\u001b[0;34m.\u001b[0m\u001b[0m_interpolation_steps\u001b[0m \u001b[0;34m=\u001b[0m \u001b[0;36m100\u001b[0m\u001b[0;34m\u001b[0m\u001b[0;34m\u001b[0m\u001b[0m\n\u001b[1;32m   2433\u001b[0m             \u001b[0;32mif\u001b[0m \u001b[0morientation\u001b[0m \u001b[0;34m==\u001b[0m \u001b[0;34m'vertical'\u001b[0m\u001b[0;34m:\u001b[0m\u001b[0;34m\u001b[0m\u001b[0;34m\u001b[0m\u001b[0m\n",
      "\u001b[0;32m~/opt/anaconda3/envs/PythonData/lib/python3.6/site-packages/matplotlib/artist.py\u001b[0m in \u001b[0;36mupdate\u001b[0;34m(self, props)\u001b[0m\n\u001b[1;32m    972\u001b[0m \u001b[0;34m\u001b[0m\u001b[0m\n\u001b[1;32m    973\u001b[0m         \u001b[0;32mwith\u001b[0m \u001b[0mcbook\u001b[0m\u001b[0;34m.\u001b[0m\u001b[0m_setattr_cm\u001b[0m\u001b[0;34m(\u001b[0m\u001b[0mself\u001b[0m\u001b[0;34m,\u001b[0m \u001b[0meventson\u001b[0m\u001b[0;34m=\u001b[0m\u001b[0;32mFalse\u001b[0m\u001b[0;34m)\u001b[0m\u001b[0;34m:\u001b[0m\u001b[0;34m\u001b[0m\u001b[0;34m\u001b[0m\u001b[0m\n\u001b[0;32m--> 974\u001b[0;31m             \u001b[0mret\u001b[0m \u001b[0;34m=\u001b[0m \u001b[0;34m[\u001b[0m\u001b[0m_update_property\u001b[0m\u001b[0;34m(\u001b[0m\u001b[0mself\u001b[0m\u001b[0;34m,\u001b[0m \u001b[0mk\u001b[0m\u001b[0;34m,\u001b[0m \u001b[0mv\u001b[0m\u001b[0;34m)\u001b[0m \u001b[0;32mfor\u001b[0m \u001b[0mk\u001b[0m\u001b[0;34m,\u001b[0m \u001b[0mv\u001b[0m \u001b[0;32min\u001b[0m \u001b[0mprops\u001b[0m\u001b[0;34m.\u001b[0m\u001b[0mitems\u001b[0m\u001b[0;34m(\u001b[0m\u001b[0;34m)\u001b[0m\u001b[0;34m]\u001b[0m\u001b[0;34m\u001b[0m\u001b[0;34m\u001b[0m\u001b[0m\n\u001b[0m\u001b[1;32m    975\u001b[0m \u001b[0;34m\u001b[0m\u001b[0m\n\u001b[1;32m    976\u001b[0m         \u001b[0;32mif\u001b[0m \u001b[0mlen\u001b[0m\u001b[0;34m(\u001b[0m\u001b[0mret\u001b[0m\u001b[0;34m)\u001b[0m\u001b[0;34m:\u001b[0m\u001b[0;34m\u001b[0m\u001b[0;34m\u001b[0m\u001b[0m\n",
      "\u001b[0;32m~/opt/anaconda3/envs/PythonData/lib/python3.6/site-packages/matplotlib/artist.py\u001b[0m in \u001b[0;36m<listcomp>\u001b[0;34m(.0)\u001b[0m\n\u001b[1;32m    972\u001b[0m \u001b[0;34m\u001b[0m\u001b[0m\n\u001b[1;32m    973\u001b[0m         \u001b[0;32mwith\u001b[0m \u001b[0mcbook\u001b[0m\u001b[0;34m.\u001b[0m\u001b[0m_setattr_cm\u001b[0m\u001b[0;34m(\u001b[0m\u001b[0mself\u001b[0m\u001b[0;34m,\u001b[0m \u001b[0meventson\u001b[0m\u001b[0;34m=\u001b[0m\u001b[0;32mFalse\u001b[0m\u001b[0;34m)\u001b[0m\u001b[0;34m:\u001b[0m\u001b[0;34m\u001b[0m\u001b[0;34m\u001b[0m\u001b[0m\n\u001b[0;32m--> 974\u001b[0;31m             \u001b[0mret\u001b[0m \u001b[0;34m=\u001b[0m \u001b[0;34m[\u001b[0m\u001b[0m_update_property\u001b[0m\u001b[0;34m(\u001b[0m\u001b[0mself\u001b[0m\u001b[0;34m,\u001b[0m \u001b[0mk\u001b[0m\u001b[0;34m,\u001b[0m \u001b[0mv\u001b[0m\u001b[0;34m)\u001b[0m \u001b[0;32mfor\u001b[0m \u001b[0mk\u001b[0m\u001b[0;34m,\u001b[0m \u001b[0mv\u001b[0m \u001b[0;32min\u001b[0m \u001b[0mprops\u001b[0m\u001b[0;34m.\u001b[0m\u001b[0mitems\u001b[0m\u001b[0;34m(\u001b[0m\u001b[0;34m)\u001b[0m\u001b[0;34m]\u001b[0m\u001b[0;34m\u001b[0m\u001b[0;34m\u001b[0m\u001b[0m\n\u001b[0m\u001b[1;32m    975\u001b[0m \u001b[0;34m\u001b[0m\u001b[0m\n\u001b[1;32m    976\u001b[0m         \u001b[0;32mif\u001b[0m \u001b[0mlen\u001b[0m\u001b[0;34m(\u001b[0m\u001b[0mret\u001b[0m\u001b[0;34m)\u001b[0m\u001b[0;34m:\u001b[0m\u001b[0;34m\u001b[0m\u001b[0;34m\u001b[0m\u001b[0m\n",
      "\u001b[0;32m~/opt/anaconda3/envs/PythonData/lib/python3.6/site-packages/matplotlib/artist.py\u001b[0m in \u001b[0;36m_update_property\u001b[0;34m(self, k, v)\u001b[0m\n\u001b[1;32m    968\u001b[0m                 \u001b[0;32mif\u001b[0m \u001b[0;32mnot\u001b[0m \u001b[0mcallable\u001b[0m\u001b[0;34m(\u001b[0m\u001b[0mfunc\u001b[0m\u001b[0;34m)\u001b[0m\u001b[0;34m:\u001b[0m\u001b[0;34m\u001b[0m\u001b[0;34m\u001b[0m\u001b[0m\n\u001b[1;32m    969\u001b[0m                     raise AttributeError('{!r} object has no property {!r}'\n\u001b[0;32m--> 970\u001b[0;31m                                          .format(type(self).__name__, k))\n\u001b[0m\u001b[1;32m    971\u001b[0m                 \u001b[0;32mreturn\u001b[0m \u001b[0mfunc\u001b[0m\u001b[0;34m(\u001b[0m\u001b[0mv\u001b[0m\u001b[0;34m)\u001b[0m\u001b[0;34m\u001b[0m\u001b[0;34m\u001b[0m\u001b[0m\n\u001b[1;32m    972\u001b[0m \u001b[0;34m\u001b[0m\u001b[0m\n",
      "\u001b[0;31mAttributeError\u001b[0m: 'Rectangle' object has no property 'figsize'"
     ]
    }
   ],
   "source": [
    "# Generate a bar plot showing the total number of timepoints for all mice tested for each drug regimen using pyplot.\n",
    "plt.bar(drug_names, total_timepoints, figsize = (12,2))\n",
    "plt.show()\n",
    "plt.tight_layout()"
   ]
  },
  {
   "cell_type": "code",
   "execution_count": 11,
   "metadata": {},
   "outputs": [],
   "source": [
    "# Generate a pie plot showing the distribution of female versus male mice using Pandas\n",
    "\n"
   ]
  },
  {
   "cell_type": "code",
   "execution_count": 12,
   "metadata": {},
   "outputs": [],
   "source": [
    "# Generate a pie plot showing the distribution of female versus male mice using pyplot\n",
    "\n"
   ]
  },
  {
   "cell_type": "markdown",
   "metadata": {},
   "source": [
    "## Quartiles, Outliers and Boxplots"
   ]
  },
  {
   "cell_type": "code",
   "execution_count": 13,
   "metadata": {},
   "outputs": [],
   "source": [
    "# Calculate the final tumor volume of each mouse across four of the treatment regimens:  \n",
    "# Capomulin, Ramicane, Infubinol, and Ceftamin\n",
    "\n",
    "# Start by getting the last (greatest) timepoint for each mouse\n",
    "\n",
    "\n",
    "# Merge this group df with the original dataframe to get the tumor volume at the last timepoint\n"
   ]
  },
  {
   "cell_type": "code",
   "execution_count": 14,
   "metadata": {},
   "outputs": [],
   "source": [
    "# Put treatments into a list for for loop (and later for plot labels)\n",
    "\n",
    "\n",
    "# Create empty list to fill with tumor vol data (for plotting)\n",
    "\n",
    "\n",
    "# Calculate the IQR and quantitatively determine if there are any potential outliers. \n",
    "\n",
    "    \n",
    "    # Locate the rows which contain mice on each drug and get the tumor volumes\n",
    "    \n",
    "    \n",
    "    # add subset \n",
    "    \n",
    "    \n",
    "    # Determine outliers using upper and lower bounds\n",
    "    "
   ]
  },
  {
   "cell_type": "code",
   "execution_count": 15,
   "metadata": {},
   "outputs": [],
   "source": [
    "# Generate a box plot of the final tumor volume of each mouse across four regimens of interest\n"
   ]
  },
  {
   "cell_type": "markdown",
   "metadata": {},
   "source": [
    "## Line and Scatter Plots"
   ]
  },
  {
   "cell_type": "code",
   "execution_count": 16,
   "metadata": {},
   "outputs": [],
   "source": [
    "# Generate a line plot of tumor volume vs. time point for a mouse treated with Capomulin\n"
   ]
  },
  {
   "cell_type": "code",
   "execution_count": 17,
   "metadata": {},
   "outputs": [],
   "source": [
    "# Generate a scatter plot of average tumor volume vs. mouse weight for the Capomulin regimen\n"
   ]
  },
  {
   "cell_type": "markdown",
   "metadata": {},
   "source": [
    "## Correlation and Regression"
   ]
  },
  {
   "cell_type": "code",
   "execution_count": 18,
   "metadata": {},
   "outputs": [],
   "source": [
    "# Calculate the correlation coefficient and linear regression model \n",
    "# for mouse weight and average tumor volume for the Capomulin regimen\n"
   ]
  },
  {
   "cell_type": "code",
   "execution_count": null,
   "metadata": {},
   "outputs": [],
   "source": []
  }
 ],
 "metadata": {
  "anaconda-cloud": {},
  "kernelspec": {
   "name": "python3",
   "display_name": "Python 3.6.10 64-bit ('PythonData': conda)"
  },
  "language_info": {
   "codemirror_mode": {
    "name": "ipython",
    "version": 3
   },
   "file_extension": ".py",
   "mimetype": "text/x-python",
   "name": "python",
   "nbconvert_exporter": "python",
   "pygments_lexer": "ipython3",
   "version": "3.6.10"
  },
  "interpreter": {
   "hash": "1e67691bc7e9c64b6dc160199b6da1a1c108a868c79186766a1263198f3426e9"
  }
 },
 "nbformat": 4,
 "nbformat_minor": 4
}